{
 "cells": [
  {
   "cell_type": "markdown",
   "metadata": {},
   "source": [
    "# Grundlegende Programmiertechniken - Blatt 9"
   ]
  },
  {
   "cell_type": "markdown",
   "metadata": {},
   "source": [
    "## Aufgabe 1: Fibonacci (10 Punkte)\n",
    "Die Fibonacci-Folge ist eine Folge von natürlichen Zahlen, die zweimal mit der 1 beginnt (Index 1 und 2). Danach ist jede Zahl die Summe der beiden vorherigen Zahlen in der Folge, die ersten Zahlen sind also:\n",
    "\n",
    "    1, 1, 2, 3, 5, 8, ...\n",
    "\n",
    "Schreiben Sie ein Programm und speichern Sie es als *Fibonacci.py*. Schreiben Sie in ihrem Programm eine Methode, die einen Index übergeben bekommt und die entsprechende Fibonacci-Zahl zurückgibt und benutzen Sie Rekursion (**keine Schleifen**) für Ihre Lösung!"
   ]
  },
  {
   "cell_type": "code",
   "execution_count": 2,
   "metadata": {},
   "outputs": [
    {
     "name": "stdout",
     "output_type": "stream",
     "text": [
      "Writing Fibonacci.py\n"
     ]
    }
   ],
   "source": [
    "%%writefile Fibonacci.py\n",
    "def fib(n):\n",
    "    if n <= 2:\n",
    "        return 1\n",
    "    else:\n",
    "        return fib(n - 2) + fib(n - 1)"
   ]
  },
  {
   "cell_type": "markdown",
   "metadata": {},
   "source": [
    "## Aufgabe 2: Summe (10 Punkte)\n",
    "Schreiben Sie ein Programm und speichern Sie es als *Summe.py*. Schreiben Sie in Ihrem Programm eine Methode, die so lange Zahlen vom Nutzer einliest, bis der Nutzer 0 eingibt. Dann soll die Methode die Summe der eingelesenen Zahlen zurückgeben. Benutzen Sie auch in dieser Methode Rekursion (**keine Schleifen**)!"
   ]
  },
  {
   "cell_type": "code",
   "execution_count": 5,
   "metadata": {},
   "outputs": [
    {
     "name": "stdout",
     "output_type": "stream",
     "text": [
      "Writing Summe.py\n"
     ]
    }
   ],
   "source": [
    "%%writefile Summe.py\n",
    "def userSum():\n",
    "    zahl = int(input(\"Ganzzahl eingeben, Eingabe 0 beendet das Programm:\"))\n",
    "    if zahl == 0:\n",
    "        return 0\n",
    "    else:\n",
    "        return zahl + userSum()"
   ]
  },
  {
   "cell_type": "markdown",
   "metadata": {},
   "source": [
    "    userSum() -> Eingabe: 5\n",
    "    5 + userSum() -> Eingabe: 4\n",
    "         4 + userSum() -> Eingabe: 0\n",
    "             0\n",
    "         4\n",
    "    9"
   ]
  },
  {
   "cell_type": "markdown",
   "metadata": {},
   "source": [
    "## Aufgabe 3: Hauptprogramm (10 Punkte)\n",
    "Schreiben Sie ein Programm und speichern Sie es als *Main.py*. Importieren Sie die beiden zuvor geschriebenen Methoden. Wenn ihr Programm beim Aufruf einen **Programmparameter** erhält, soll die entsprechende Fibonacci-Zahl ausgegeben werden (Aufgabe 1). Wenn **kein Programmparameter** übergeben wird, soll der Nutzer Zahlen eingeben können, um deren Summe zu berechnen (Aufgabe 2)."
   ]
  },
  {
   "cell_type": "code",
   "execution_count": 7,
   "metadata": {},
   "outputs": [
    {
     "name": "stdout",
     "output_type": "stream",
     "text": [
      "Writing Main.py\n"
     ]
    }
   ],
   "source": [
    "%%writefile Main.py\n",
    "import sys\n",
    "from Summe import userSum\n",
    "from Fibonacci import fib\n",
    "\n",
    "if len(sys.argv) > 1:\n",
    "    zahl = int(sys.argv[1])\n",
    "    print(fib(zahl))\n",
    "else:\n",
    "    print(\"Summe =\", userSum())"
   ]
  },
  {
   "cell_type": "code",
   "execution_count": null,
   "metadata": {},
   "outputs": [],
   "source": []
  }
 ],
 "metadata": {
  "kernelspec": {
   "display_name": "Python 3",
   "language": "python",
   "name": "python3"
  },
  "language_info": {
   "codemirror_mode": {
    "name": "ipython",
    "version": 3
   },
   "file_extension": ".py",
   "mimetype": "text/x-python",
   "name": "python",
   "nbconvert_exporter": "python",
   "pygments_lexer": "ipython3",
   "version": "3.7.6"
  }
 },
 "nbformat": 4,
 "nbformat_minor": 4
}
