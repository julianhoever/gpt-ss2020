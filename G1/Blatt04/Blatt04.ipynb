{
 "cells": [
  {
   "cell_type": "markdown",
   "metadata": {},
   "source": [
    "# Grundlegende Programmiertechniken - Blatt 4"
   ]
  },
  {
   "cell_type": "markdown",
   "metadata": {},
   "source": [
    "## Aufgabe 1: Multiplikationstabelle (15 Punkte)\n",
    "Schreiben Sie ein Programm und speichern Sie es als Multiplikationstabelle.py ab. Ihr Programm soll **zwei Ganzzahlen als Programmparameter** erhalten. Sie dürfen davon ausgehen, dass die **erste Zahl kleiner als die zweite Zahl** ist. Ihr Programm soll nun die Multiplikationstabelle zu diesen beiden Zahlen ausgeben. Die Ausgabe soll nach dem folgenden Schema aufgebaut sein:\n",
    "    \n",
    "    python3 Multiplikationstabelle.py 12 14\n",
    "        12  13  14 \n",
    "    12  144 156 168\n",
    "    13  156 169 182\n",
    "    14  168 182 196\n",
    "\n",
    "Tipps:\n",
    "- Benutzen Sie zwischen den Zahlen keine Leerzeichen, sondern Tabstopps. Diese schreibt man in Python als ”\\t”.\n",
    "- Damit die Funktion print am Ende keinen Zeilenumbruch ausgibt, kann ein zusätzlicher Parameter end auf das Zeichen gesetzt werden, das am Ende ausgegeben werden soll. Soll ein Tabstopp ausgegeben werden, sähe das dann beispielsweise so aus: print(\"Hallo\", end=\"\\t\")."
   ]
  },
  {
   "cell_type": "markdown",
   "metadata": {},
   "source": [
    "### Lösung\n",
    "1. Was ist eine Multiplikationstabelle nochmal genau? Eine Multiplikationstabelle enthält in der ersten Zeile und ersten Spalte alle Zahlen von einem Startwert bis zu einem Endwert. Alle weiteren Zellen ergeben sich daraus, dass man den Wert Spalte mit dem Wert der Zeile multipliziert. Also für das Beispiel in der Aufgabe:\n",
    "\n",
    "|        | 12    | 13    | 14    |\n",
    "|--------|------ |-------|-------|\n",
    "| **12** | 12*12 | 12*13 | 12*14 |\n",
    "| **13** | 13*12 | 13*13 | 13*14 |\n",
    "| **14** | 14*12 | 14*13 | 14*14 |\n",
    "\n",
    "2. Die beiden Zahlen für den Start und Endwert sollen als **Programmparameter** (sys.argv) übergeben werden\n",
    "\n",
    "3. Jeder Tabelleneintrag soll mittels eines Tabstopps (\"\\t\") getrennt werden\n",
    "    - Bei dem \"\\t\" handelt es sich um ein Steuerungszeichen welches an der Stelle einen Tabstopp einfügt. Ein anderes Steuerzeichen ist beispielsweise das Zeichen \"\\n\", welches an der Stelle an dem \"\\n\" steht einen Zeilenumbruch einfügt.\n",
    "    - print(\"Hallo\", end=\"\\t\") fügt dem entsprechend nach dem \"Hallo\" ausgegeben wurde einen Tabstopp ein anstatt eines Zeilenumbruchs (\"\\n\"). Um das zu visualisieren folgendes Beispiel:"
   ]
  },
  {
   "cell_type": "code",
   "execution_count": 1,
   "metadata": {},
   "outputs": [
    {
     "name": "stdout",
     "output_type": "stream",
     "text": [
      "A\tB\tC\t\n",
      "Hallo Welt\n"
     ]
    }
   ],
   "source": [
    "# Nach jedem print folgt ein Tabstopp\n",
    "print(\"A\", end=\"\\t\")\n",
    "print(\"B\", end=\"\\t\")\n",
    "print(\"C\", end=\"\\t\")\n",
    "\n",
    "# Aufruf der print-Funktion ohne Parameter für einen Zeilenumbruch am Zeilenende\n",
    "print()\n",
    "\n",
    "# Hallo Welt steht in einer neuen Zeile\n",
    "print(\"Hallo Welt\")"
   ]
  },
  {
   "cell_type": "markdown",
   "metadata": {},
   "source": [
    "Man kann erkennen, dass in der 1. Zeile der Ausgabe A, B und C jeweils mit einem Tabstopp getrennt ist und das das print ohne Parameter einen Zeilenumbruch bewirkt hat. Damit lässt sich nun der eigentliche Algorithmus schreiben:"
   ]
  },
  {
   "cell_type": "code",
   "execution_count": null,
   "metadata": {},
   "outputs": [],
   "source": [
    "import sys\n",
    "\n",
    "start = int(sys.argv[1])\n",
    "ende = int(sys.argv[2])\n",
    "\n",
    "# Zuerst erzeugen wir die erste Zeile unserer Tabelle. Dies waren ja in dem Beispiel der Aufgabenstellung die Zahlen 12, 13 und 14.\n",
    "# Die Schleife erzeugt die erste Zeile immer nach dem Schema <Tabstopp><i>\n",
    "# Also anhand unseres Beispiels aus der Aufgabe mit dem Startwert 12 und dem Endwert 14: \\t12\\t13\\t14\n",
    "for i in range(start, ende + 1):\n",
    "    print(\"\\t\", i, end=\"\")\n",
    "    \n",
    "# Zeilenumbruch nach der 1. Zeile der Tabelle\n",
    "print()\n",
    "\n",
    "# 2 Verschachtelte Schleifen: Die erste Schleife geht alle Werte von start bis ende durch.\n",
    "# Die zweite Schleife geht für jeden Durchlauf der äußeren Schleife erneut alle Werte von Start bis ende durch.\n",
    "# Die äußere Schleife geht quasi alle Zeilen durch und die innere Schleife alle Spalten\n",
    "for i in range(start, ende + 1):\n",
    "    # Schreibt den Wert der Zeile (z.B. 12, 13 ,14) an den Anfang der Zeile und macht einen Tabstopp\n",
    "    print(i, end=\"\\t\")\n",
    "    \n",
    "    for j in range(start, ende + 1):\n",
    "        # Berechnet den Wert der Zelle der Tabelle aus Wert_der_Spalte * Wert_der_Zeile, gibt diesen Wert aus\n",
    "        # und macht einen Tabstopp am Ende der Ausgabe\n",
    "        print(i * j, end=\"\\t\")\n",
    "        \n",
    "    # Wenn die Zeile vollständig ausgegeben wurde mache einen Zeilenumbruch um in die nächste Zeile zu gelangen\n",
    "    print()"
   ]
  },
  {
   "cell_type": "markdown",
   "metadata": {},
   "source": [
    "Da ihr nun die Lösung gesehen habt, nochmal kurz ein Beispiel um deutlich zu machen, was die 2 verschachtelten for-Schleifen tun. Dazu nutze ich erneut die Zahlen aus der Aufgabenstellung (start = 12 und ende = 14):"
   ]
  },
  {
   "cell_type": "code",
   "execution_count": 2,
   "metadata": {},
   "outputs": [
    {
     "name": "stdout",
     "output_type": "stream",
     "text": [
      "Zeile 12 und Spalte 12 -> 12 * 12 = 144\n",
      "Zeile 12 und Spalte 13 -> 12 * 13 = 156\n",
      "Zeile 12 und Spalte 14 -> 12 * 14 = 168\n",
      "Zeile 13 und Spalte 12 -> 13 * 12 = 156\n",
      "Zeile 13 und Spalte 13 -> 13 * 13 = 169\n",
      "Zeile 13 und Spalte 14 -> 13 * 14 = 182\n",
      "Zeile 14 und Spalte 12 -> 14 * 12 = 168\n",
      "Zeile 14 und Spalte 13 -> 14 * 13 = 182\n",
      "Zeile 14 und Spalte 14 -> 14 * 14 = 196\n"
     ]
    }
   ],
   "source": [
    "start = 12\n",
    "ende = 14\n",
    "\n",
    "for i in range(start, ende + 1):    \n",
    "    for j in range(start, ende + 1):\n",
    "        print(\"Zeile\", str(i), \"und Spalte\", j, \"->\", i, \"*\", j, \"=\", i * j)"
   ]
  },
  {
   "cell_type": "markdown",
   "metadata": {},
   "source": [
    "Wenn man sich diese Ausgabe zusammen mit der Multiplikationstabelle für die Zahlen 12 bis 14 anschaut wird vielleicht klar wie die verschachtelten for-Schleifen arbeiten."
   ]
  },
  {
   "cell_type": "markdown",
   "metadata": {},
   "source": [
    "## Aufgabe 2: Zweidimensionales Array (20 Punkte)\n",
    "Schreiben Sie ein Programm und speichern Sie es als Matrix.py. Ihr Programm soll Wortpaare (Arrays mit zwei Wörtern) in einem Array speichern.\n",
    "\n",
    "- Dazu soll der Nutzer zunächst gefragt werden, wie viele Wortpaare er eingeben möchte. Dann sollen entsprechend oft jeweils zwei Wörter in ein Array eingelesen werden, und diese Arrays sollen widerum in einem Array gespeichert werden.\n",
    "- Erstellen Sie nun ein zweites Array, in das alle Wörter des ersten Arrays übertragen werden sollen, wobei im neuen Array nur Zeichenketten und keine Arrays stehen sollen. Dabei soll die Reihenfolge innerhalb der Wortpaare unverändert bleiben, die Paare sollen jedoch in umgekehrter Reihenfolge im neuen Array stehen.\n",
    "- Erstellen Sie nun ein drittes Array, in das ebenfalls die Wörter des ersten Arrays übertragen werden sollen und das ebenfalls nur Zeichenketten und keine Arrays enthalten soll. In dieses Array sollen die Worte so übertragen werden, dass die Reihenfolge der Wortpaare bestehen bleibt, sich die Reihenfolge innerhalb eines Paars jedoch jeweils umkehrt.\n",
    "- Geben Sie abschließend das ursprünglich eingelesene Array und die beiden neuen Arrays untereinander aus.\n",
    "\n",
    "Ein beispielhafter Aufruf könnte so aussehen:\n",
    "\n",
    "    python3 Matrix.py\n",
    "    Wie viele Wortpaare sollen eingegeben werden: 2\n",
    "    Bitte geben Sie das 1te Wortpaar ein:\n",
    "    a\n",
    "    b\n",
    "    Bitte geben Sie das 2te Wortpaar ein:\n",
    "    x\n",
    "    y\n",
    "    [[’a’, ’b’], [’x’, ’y’]]\n",
    "    [’x’, ’y’, ’a’, ’b’]\n",
    "    [’b’, ’a’, ’y’, ’x’]"
   ]
  },
  {
   "cell_type": "markdown",
   "metadata": {},
   "source": [
    "### Lösung\n",
    "\n",
    "1. Der Nutzer soll gefragt werden wie viele Wortpaare er eingeben möchte $\\Rightarrow$ input-Funktion\n",
    "\n",
    "2. Anschließend soll der Nutzer aufgefordert so viele Wortpaare einzugeben, wie er vorher festgelegt hat ($\\Rightarrow$ Mehrere input-Aufrufe?! Schleife?!)\n",
    "    - Diese sollen in einer Liste gespeichert werden\n",
    "    - Also eine Liste von Listen mit jeweils 2 Wörtern\n",
    "    \n",
    "    \n",
    "3. Neue Liste: Wortpaare sollen vertauscht werden, Reihenfolge in den Wortpaaren soll erhalten bleiben (Liste von Strings)\n",
    "\n",
    "4. Neue Liste: Reihenfolge der Wortpaare bleibt erhalten, Reihenfolge in den Paaren wird getauscht\n",
    "\n",
    "5. Alle drei Listen werden ausgegeben"
   ]
  },
  {
   "cell_type": "code",
   "execution_count": 3,
   "metadata": {},
   "outputs": [
    {
     "name": "stdin",
     "output_type": "stream",
     "text": [
      "Wie viele Wortpaare sollen eingegeben werden:  3\n"
     ]
    },
    {
     "name": "stdout",
     "output_type": "stream",
     "text": [
      "Bitte geben Sie das 1te Wortpaar ein:\n"
     ]
    },
    {
     "name": "stdin",
     "output_type": "stream",
     "text": [
      " a\n",
      " b\n"
     ]
    },
    {
     "name": "stdout",
     "output_type": "stream",
     "text": [
      "Bitte geben Sie das 2te Wortpaar ein:\n"
     ]
    },
    {
     "name": "stdin",
     "output_type": "stream",
     "text": [
      " c\n",
      " d\n"
     ]
    },
    {
     "name": "stdout",
     "output_type": "stream",
     "text": [
      "Bitte geben Sie das 3te Wortpaar ein:\n"
     ]
    },
    {
     "name": "stdin",
     "output_type": "stream",
     "text": [
      " e\n",
      " f\n"
     ]
    },
    {
     "name": "stdout",
     "output_type": "stream",
     "text": [
      "[['a', 'b'], ['c', 'd'], ['e', 'f']]\n",
      "['e', 'f', 'c', 'd', 'a', 'b']\n",
      "['b', 'a', 'd', 'c', 'f', 'e']\n"
     ]
    }
   ],
   "source": [
    "# Wie viele Wortpaare sollen eingegeben werden (Ganzzahl -> int)\n",
    "n = int(input(\"Wie viele Wortpaare sollen eingegeben werden: \"))\n",
    "\n",
    "# Leere Liste in die dann die eingegebenen Wortpaare eingefügt werden\n",
    "a = []\n",
    "\n",
    "# Schleife von 1 bis n, also i nimmt folgende Werte an: 1, 2, 3, ..., n-2, n-1, n\n",
    "for i in range(1, n+1):\n",
    "    # Aufforderung das i. Wortpaar einzugeben.\n",
    "    # Mit + lassen sich Strings zusammenfügen: \"Hallo\" + \"Welt\" == \"HalloWelt\"\n",
    "    # str(i) macht in dem Fall aus einer Zahl einen String: str(1) == \"1\"\n",
    "    print(\"Bitte geben Sie das \" + str(i) + \"te Wortpaar ein:\")\n",
    "    \n",
    "    # Wortpaar wird der Liste hinzugefügt.\n",
    "    # Die doppelten Klammern müssen sein, da gilt \n",
    "    # [[\"a\", \"b\"], [\"c\", \"d\"]] + [[\"e\", \"f\"]] == [[\"a\", \"b\"], [\"c\", \"d\"], [\"e\", \"f\"]]\n",
    "    a += [[input(), input()]]\n",
    "\n",
    "# Leere Liste für die umgetauschen Wortpaare\n",
    "b = []\n",
    "\n",
    "# Schleife von n-1 bis 0, also i nimmt folgende Werte an: n-1, n-2, n-3, ..., 2, 1, 0\n",
    "for i in range(len(a)-1, -1, -1):\n",
    "    # An die Liste b wird das Element von a an der Stelle i angehängt.\n",
    "    # Da i alle Indizes von a rückwärts durchgeht sind in b nach der Schleife alle Wortpaare in umgekehrter Reihenfolge enthalten.\n",
    "    # Da a[i] immer eine Liste mit 2 Wörtern ist steht an der Stelle im ersten Schleifendurchlauf ja sowas wie:\n",
    "    # [] + [\"a\", \"b\"] und das ergibt dann die Liste [\"a\", \"b\"]\n",
    "    # Im 2. Schleifendurchlauf dann [\"a\", \"b\"] + [\"c\", \"d\"] was [\"a\", \"b\", \"c\", \"d\"] ergibt, usw...\n",
    "    b += a[i]\n",
    "\n",
    "# Leere Liste für die umgetauschten Wörter in den Wortpaaren\n",
    "c = []\n",
    "\n",
    "# Schleife von 0 bis n-1, also i nimmt folgende Werte an: 0, 1, 2, ..., n-3, n-2, n-1\n",
    "# Das i nimmt also alle Indizes von a einmal an (von Vorne an)\n",
    "for i in range(0, len(a)):\n",
    "    # c wird dann einmal das letzte Wort a[i] hinzugefügt und anschließend das erste Wort von a[i]\n",
    "    c += [a[i][1]]\n",
    "    c += [a[i][0]]\n",
    "\n",
    "# Zum Schluss werden a, b und c untereinander ausgegeben\n",
    "print(a)\n",
    "print(b)\n",
    "print(c)"
   ]
  },
  {
   "cell_type": "markdown",
   "metadata": {},
   "source": [
    "Eine Alternativlösung mittels Slicing wäre:"
   ]
  },
  {
   "cell_type": "code",
   "execution_count": 4,
   "metadata": {},
   "outputs": [
    {
     "name": "stdin",
     "output_type": "stream",
     "text": [
      "Wie viele Wortpaare sollen eingegeben werden:  3\n"
     ]
    },
    {
     "name": "stdout",
     "output_type": "stream",
     "text": [
      "Bitte geben Sie das 1te Wortpaar ein:\n"
     ]
    },
    {
     "name": "stdin",
     "output_type": "stream",
     "text": [
      " a\n",
      " b\n"
     ]
    },
    {
     "name": "stdout",
     "output_type": "stream",
     "text": [
      "Bitte geben Sie das 2te Wortpaar ein:\n"
     ]
    },
    {
     "name": "stdin",
     "output_type": "stream",
     "text": [
      " c\n",
      " d\n"
     ]
    },
    {
     "name": "stdout",
     "output_type": "stream",
     "text": [
      "Bitte geben Sie das 3te Wortpaar ein:\n"
     ]
    },
    {
     "name": "stdin",
     "output_type": "stream",
     "text": [
      " e\n",
      " f\n"
     ]
    },
    {
     "name": "stdout",
     "output_type": "stream",
     "text": [
      "[['a', 'b'], ['c', 'd'], ['e', 'f']]\n",
      "['e', 'f', 'c', 'd', 'a', 'b']\n",
      "['b', 'a', 'd', 'c', 'f', 'e']\n"
     ]
    }
   ],
   "source": [
    "n = int(input(\"Wie viele Wortpaare sollen eingegeben werden: \"))\n",
    "\n",
    "a = []\n",
    "\n",
    "for i in range(1, n+1):\n",
    "    print(\"Bitte geben Sie das \" + str(i) + \"te Wortpaar ein:\")\n",
    "    a += [[input(), input()]]\n",
    "    \n",
    "b = []\n",
    "\n",
    "for paar in a[::-1]:\n",
    "    b += paar\n",
    "\n",
    "c= []\n",
    "\n",
    "for paar in a:\n",
    "    c += paar[::-1]\n",
    "    \n",
    "print(a)\n",
    "print(b)\n",
    "print(c)"
   ]
  }
 ],
 "metadata": {
  "kernelspec": {
   "display_name": "Python 3",
   "language": "python",
   "name": "python3"
  },
  "language_info": {
   "codemirror_mode": {
    "name": "ipython",
    "version": 3
   },
   "file_extension": ".py",
   "mimetype": "text/x-python",
   "name": "python",
   "nbconvert_exporter": "python",
   "pygments_lexer": "ipython3",
   "version": "3.7.6"
  },
  "toc-showmarkdowntxt": false,
  "toc-showtags": false
 },
 "nbformat": 4,
 "nbformat_minor": 4
}
