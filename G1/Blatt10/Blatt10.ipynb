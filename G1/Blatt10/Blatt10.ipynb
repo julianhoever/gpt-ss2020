{
 "cells": [
  {
   "cell_type": "markdown",
   "metadata": {},
   "source": [
    "# Grundlegende Programmiertechniken - Blatt 10"
   ]
  },
  {
   "cell_type": "markdown",
   "metadata": {},
   "source": [
    "## Aufgabe 1: Palindrom (10 Punkte)\n",
    "\n",
    "Schreiben Sie ein Programm und speichern Sie es als *Palindrom.py*. Ihr Programm soll den Nutzer auffordern, ein Wort oder einen Satz einzugeben. Dann soll ausgegeben werden, ob es sich um ein Palindrom handelt. In Aufgabe 8 haben Sie dazu bereits eine Methode geschrieben, jetzt sollen Sie jedoch eine Methode schreiben, die **rekursiv (ohne Schleifen)** arbeitet. Es soll möglich sein, die **Methode mit nur einem Parameter**, dem String zur Überprüfung, aufzurufen. Wenn Sie mehr Parameter benötigen, dürfen Sie jedoch **weitere Parameter mit Standardwerten** verwenden.\n",
    "*Zur Erinnerung: Ein Palindrom ist ein Wort oder Satz, der von vorne und von hinten gelesen gleich ist, ein Beispiel wäre also: anna*\n",
    "\n",
    "*Tipp: Man kann auf einzelne Zeichen eines Strings wie auf Elemente eines Arrays zugreifen, das erste Zeichen eines String s wäre also s[0].*"
   ]
  },
  {
   "cell_type": "code",
   "execution_count": 3,
   "metadata": {},
   "outputs": [
    {
     "name": "stdin",
     "output_type": "stream",
     "text": [
      "Wort/Satz:  Ben\n"
     ]
    },
    {
     "name": "stdout",
     "output_type": "stream",
     "text": [
      "Ist kein Palindrom\n"
     ]
    }
   ],
   "source": [
    "#def palindrom(wort, start=0):\n",
    "#    if start == len(wort) // 2:\n",
    "#        return True\n",
    "#    if wort[start] != wort[len(wort)-1-start]:\n",
    "#        return False\n",
    "#    return palindrom(wort, start+1)\n",
    "\n",
    "def palindrom(wort):\n",
    "    if len(wort) == 0:\n",
    "        return True\n",
    "    if wort[0] != wort[-1]:\n",
    "        return False\n",
    "    return palindrom(wort[1:-1])\n",
    "\n",
    "\n",
    "eingabe = input(\"Wort/Satz: \")\n",
    "\n",
    "if palindrom(eingabe):\n",
    "    print(\"Ist eine Palindrom\")\n",
    "else:\n",
    "    print(\"Ist kein Palindrom\")"
   ]
  },
  {
   "cell_type": "markdown",
   "metadata": {},
   "source": [
    "## Aufgabe 2: Zahlenraten (15 Punkte)\n",
    "\n",
    "Schreiben Sie ein Programm und speichern Sie es als *Zahlenraten.py*. Ihr Programm soll den Nutzer zunächst nach der kleinstmöglichen und der größtmöglichen Zahl fragen. Dann soll es eine Zahl raten und auf eine Eingabe von ‘>’ oder ‘größer’, wenn die gesuchte Zahl größer ist, ‘<’ oder ‘kleiner’, wenn die gesuchte Zahl kleiner ist, oder einer beliebigen anderen Eingabe, wenn die Zahl richtig geraten wurde, warten und gegebenenfalls erneut raten, bis die Zahl gefunden wurde. Die Zahlen sollen basierend auf der in der Vorlesung besprochenen binären Suche gewählt werden, um möglichst schnell zur korrekten Lösung zu kommen.\n",
    "\n",
    "*Tipp: Das Beispiel Zahlenraten finden Sie auch in den Vorlesungsfolien zur Suche.*"
   ]
  },
  {
   "cell_type": "code",
   "execution_count": 7,
   "metadata": {},
   "outputs": [
    {
     "name": "stdin",
     "output_type": "stream",
     "text": [
      "Kleinste Zahl:  1\n",
      "Groesste Zahl:  100\n",
      "Ist die Zahl 50 die gesuchte Zahl? >\n",
      "Ist die Zahl 75 die gesuchte Zahl? <\n",
      "Ist die Zahl 62 die gesuchte Zahl? >\n",
      "Ist die Zahl 68 die gesuchte Zahl? >\n",
      "Ist die Zahl 71 die gesuchte Zahl? <\n",
      "Ist die Zahl 69 die gesuchte Zahl? \n"
     ]
    },
    {
     "name": "stdout",
     "output_type": "stream",
     "text": [
      "Zahl gefunden!\n"
     ]
    }
   ],
   "source": [
    "start = int(input(\"Kleinste Zahl: \"))\n",
    "ende = int(input(\"Groesste Zahl: \"))\n",
    "richtig = False\n",
    "\n",
    "\n",
    "while not richtig:\n",
    "    if start > ende:\n",
    "        print(\"Das ist unmöglich. Du spielst nicht fair!\")\n",
    "        break\n",
    "        \n",
    "    raten = (start + ende) // 2\n",
    "    antwort = input(\"Ist die Zahl \" + str(raten) +  \" die gesuchte Zahl?\")\n",
    "    \n",
    "    if antwort == \">\" or antwort == \"größer\":\n",
    "        start = raten + 1\n",
    "    \n",
    "    elif antwort == \"<\" or antwort == \"kleiner\":\n",
    "        ende = raten - 1\n",
    "    \n",
    "    else:\n",
    "        print(\"Zahl gefunden!\")\n",
    "        richtig = True"
   ]
  },
  {
   "cell_type": "markdown",
   "metadata": {},
   "source": [
    "## Aufgabe 3: MinMax Sort (15 Punkte)\n",
    "\n",
    "Der sog. Min/Max-Sortieralgorithmus funktioniert folgendermaßen: In der Eingabe-Liste werden das kleinste und das größte Element gesucht und diese mit dem ersten und letzten vertauscht. Dieser Vorgang wird mit der Liste zwischen dem kleinsten und größten Element wiederholt, bis dieser mittlere Teil der Liste leer ist. Schreiben Sie ein Programm MinMax.py und implementieren Sie den Algorithmus in einer Methode minmaxsort(liste).\n",
    "\n",
    "*Tipp: Zum Tauschen können Sie die tausche Methode aus der Vorlesung verwenden.*"
   ]
  },
  {
   "cell_type": "code",
   "execution_count": 8,
   "metadata": {},
   "outputs": [
    {
     "name": "stdout",
     "output_type": "stream",
     "text": [
      "[0, 1, 2, 5, 18, 26, 39, 42]\n"
     ]
    }
   ],
   "source": [
    "def tausche(liste,a,b):\n",
    "    t = liste[a]\n",
    "    liste[a] = liste[b]\n",
    "    liste[b] = t\n",
    "\n",
    "def minmaxsort(liste):\n",
    "    l = len(liste)\n",
    "    for i in range(0, l//2):\n",
    "        min_i = i\n",
    "        max_i = i\n",
    "        for j in range(i+1, l-i):\n",
    "            if liste[j] < liste[min_i]: \n",
    "                min_i = j\n",
    "            elif liste[j] > liste[max_i]: \n",
    "                max_i = j\n",
    "        tausche(liste, i, min_i)\n",
    "        if i == max_i:\n",
    "            max_i = min_i\n",
    "        tausche(liste, l-i-1, max_i)\n",
    "\n",
    "#Testprogramm, nicht Teil der Aufgabe:\n",
    "l = [42,39,2,18,26,5,1,0]\n",
    "minmaxsort(l)\n",
    "print(l)"
   ]
  },
  {
   "cell_type": "code",
   "execution_count": null,
   "metadata": {},
   "outputs": [],
   "source": [
    "def f(anzahl):\n",
    "    if anzahl == 1:\n",
    "        print(anzahl *"
   ]
  }
 ],
 "metadata": {
  "kernelspec": {
   "display_name": "Python 3",
   "language": "python",
   "name": "python3"
  },
  "language_info": {
   "codemirror_mode": {
    "name": "ipython",
    "version": 3
   },
   "file_extension": ".py",
   "mimetype": "text/x-python",
   "name": "python",
   "nbconvert_exporter": "python",
   "pygments_lexer": "ipython3",
   "version": "3.7.6"
  }
 },
 "nbformat": 4,
 "nbformat_minor": 4
}
