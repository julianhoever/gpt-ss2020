{
 "cells": [
  {
   "cell_type": "markdown",
   "metadata": {},
   "source": [
    "# Grundlegende Programmiertechniken - Blatt 8"
   ]
  },
  {
   "cell_type": "markdown",
   "metadata": {},
   "source": [
    "## Aufgabe 1: Palindrom (10 Punkte)\n",
    "\n",
    "Schreiben Sie ein Programm und speichern Sie es als *Palindrom.py*. Schreiben Sie eine Methode, die eine Zeichenkette entgegennimmt und einen Wahrheitswert zurückgibt. Die Rückgabe soll True sein, wenn es sich bei der Zeichenkette um ein Palindrom handelt, und False, wenn die Zeichenkette kein Palindrom ist. Bei der Überprüfung soll Groß- und Kleinschreibung beachtet werden. \n",
    "\n",
    "*Tipp: Ein Palindrom ist ein Wort, das von vorn und von hinten gelesen gleich ist, ein Beispiel wäre also anna oder lagerregal*\n",
    "\n",
    "*Tipp: Um einzelne Zeichen einer Zeichenkette zu betrachten, können Sie eine Zeichenkette wie ein Array von einzelnen Zeichen behandeln, das erste Zeichen eines Strings s wäre also s[0].*"
   ]
  },
  {
   "cell_type": "code",
   "execution_count": 11,
   "metadata": {},
   "outputs": [
    {
     "name": "stdout",
     "output_type": "stream",
     "text": [
      "ollaH\n"
     ]
    }
   ],
   "source": [
    "wort = \"Hallo\"\n",
    "print(wort[::-1])"
   ]
  },
  {
   "cell_type": "code",
   "execution_count": 10,
   "metadata": {},
   "outputs": [
    {
     "name": "stdout",
     "output_type": "stream",
     "text": [
      "True\n"
     ]
    }
   ],
   "source": [
    "print(\"anna\" == \"anna\")"
   ]
  },
  {
   "cell_type": "code",
   "execution_count": 8,
   "metadata": {},
   "outputs": [
    {
     "name": "stdout",
     "output_type": "stream",
     "text": [
      "True\n"
     ]
    }
   ],
   "source": [
    "#%%writefile Palindrom.py\n",
    "def palindrom(wort):\n",
    "    for i in range(len(wort) // 2):\n",
    "        if wort[i] != wort[-1-i]:\n",
    "            return False\n",
    "    return True\n",
    "\n",
    "print(palindrom(\"anna\"))"
   ]
  },
  {
   "cell_type": "code",
   "execution_count": 12,
   "metadata": {},
   "outputs": [
    {
     "name": "stdout",
     "output_type": "stream",
     "text": [
      "Writing Palindrom.py\n"
     ]
    }
   ],
   "source": [
    "%%writefile Palindrom.py\n",
    "def palindrom(wort):\n",
    "    return wort == wort[::-1]"
   ]
  },
  {
   "cell_type": "markdown",
   "metadata": {},
   "source": [
    "## Aufgabe 2: Quersumme (10 Punkte)\n",
    "\n",
    "Schreiben Sie ein Programm und speichern Sie es als *Quersumme.py*. Schreiben Sie eine Methode, die eine Ganzzahl bekommt und die Quersumme dieser Zahl zurückgibt.\n",
    "\n",
    "*Tipp: Die Quersumme einer Zahl ist die Summe der Ziffern dieser Zahl, beispielsweise ist die Quersumme von 215 = 8.*"
   ]
  },
  {
   "cell_type": "code",
   "execution_count": 17,
   "metadata": {},
   "outputs": [
    {
     "name": "stdout",
     "output_type": "stream",
     "text": [
      "Overwriting Quersumme.py\n"
     ]
    }
   ],
   "source": [
    "%%writefile Quersumme.py\n",
    "def quersumme(zahl):\n",
    "    summe = 0\n",
    "    while zahl > 0:\n",
    "        summe += zahl % 10\n",
    "        zahl //= 10\n",
    "    return summe"
   ]
  },
  {
   "cell_type": "code",
   "execution_count": 23,
   "metadata": {},
   "outputs": [],
   "source": [
    "def quersumme(zahl):\n",
    "    zahl_str = str(zahl)\n",
    "    summe = 0\n",
    "    for ziffer in zahl_str:\n",
    "        summe += int(ziffer)\n",
    "    return summe"
   ]
  },
  {
   "cell_type": "markdown",
   "metadata": {},
   "source": [
    "## Aufgabe 3: Hauptprogramm (10 Punkte)\n",
    "\n",
    "Schreiben Sie ein Programm und speichern Sie es als *Uebung8.py*. Importieren Sie die beiden Methoden, die Sie zuvor geschrieben haben. Ihr Programm soll mit dem ersten übergebenen Programmparameter arbeiten. Wurde kein Parameter übergeben, dann soll das Programm eine entsprechende Meldung ausgeben und beenden. Wurde ein als Ganzzahl interpretierbarer Parameter übergeben, dann soll die Quersumme der Ganzzahl ausgegeben werden. Wurde ein anderer Parameter übergeben, dann soll ausgegeben werden, ob es sich bei der Zeichenkette um ein Palindrom handelt oder nicht."
   ]
  },
  {
   "cell_type": "code",
   "execution_count": 24,
   "metadata": {},
   "outputs": [
    {
     "name": "stdout",
     "output_type": "stream",
     "text": [
      "Writing Uebung8.py\n"
     ]
    }
   ],
   "source": [
    "%%writefile Uebung8.py\n",
    "import sys\n",
    "#import Palindrom\n",
    "#import Quersumme\n",
    "from Palindrom import palindrom\n",
    "from Quersumme import quersumme\n",
    "\n",
    "try:\n",
    "    zahl = int(sys.argv[1])\n",
    "    \n",
    "    print(\"Quersumme:\", quersumme(zahl))\n",
    "    \n",
    "except ValueError:\n",
    "    wort = sys.argv[1]\n",
    "    \n",
    "    if palindrom(wort):\n",
    "        print(wort, \"ist ein Palindrom.\")\n",
    "    else:\n",
    "        print(wort, \"ist kein Palindrom.\")\n",
    "    \n",
    "except IndexError:\n",
    "    print(\"Programmparameter fehlt.\")"
   ]
  },
  {
   "cell_type": "code",
   "execution_count": null,
   "metadata": {},
   "outputs": [],
   "source": []
  }
 ],
 "metadata": {
  "kernelspec": {
   "display_name": "Python 3",
   "language": "python",
   "name": "python3"
  },
  "language_info": {
   "codemirror_mode": {
    "name": "ipython",
    "version": 3
   },
   "file_extension": ".py",
   "mimetype": "text/x-python",
   "name": "python",
   "nbconvert_exporter": "python",
   "pygments_lexer": "ipython3",
   "version": "3.7.6"
  }
 },
 "nbformat": 4,
 "nbformat_minor": 4
}
