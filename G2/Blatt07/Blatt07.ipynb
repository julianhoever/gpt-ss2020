{
 "cells": [
  {
   "cell_type": "markdown",
   "metadata": {},
   "source": [
    "# Grundlegende Programmiertechniken - Blatt 7"
   ]
  },
  {
   "cell_type": "markdown",
   "metadata": {},
   "source": [
    "## Aufgabe 1: Hauptprogramm (10 Punkte)\n",
    "Schreiben Sie ein Programm und speichern Sie es als *Uebung7.py*. Ihr Programm soll den Nutzer auffordern, eine beliebige Ganzzahl einzugeben und darauf hinweisen, dass negative Zahlen das Programm beenden. Wird eine **negative Zahl** oder **etwas anderes als eine Ganzzahl** eingegeben, dann soll das Programm beendet werden. Wird eine positive Zahl eingegeben, dann sollen die Primfaktoren der Zahl ausgegeben werden und es soll ausgegeben werden, ob es sich um eine perfekte Zahl handelt Benutzen Sie dazu die Methoden, die Sie in den folgenden beiden Aufgaben schreiben. Anschließend soll der Nutzer erneut eine Ganzzahl eingeben können, bis das Programm durch\n",
    "Eingabe einer negativen Zahl beendet wird."
   ]
  },
  {
   "cell_type": "code",
   "execution_count": 16,
   "metadata": {},
   "outputs": [
    {
     "name": "stdin",
     "output_type": "stream",
     "text": [
      "Bitte geben Sie eine Ganzzahl ein. Negative Zahlen beenden das Programm:  6\n"
     ]
    },
    {
     "name": "stdout",
     "output_type": "stream",
     "text": [
      "Primfaktoren: [2, 3]\n",
      "6 ist eine perfekte Zahl\n"
     ]
    },
    {
     "name": "stdin",
     "output_type": "stream",
     "text": [
      "Bitte geben Sie eine Ganzzahl ein. Negative Zahlen beenden das Programm:  adsfadsfsf\n"
     ]
    },
    {
     "name": "stdout",
     "output_type": "stream",
     "text": [
      "Programm endet. Keine Ganzzahl eingegeben.\n"
     ]
    }
   ],
   "source": [
    "def istPrimzahl(n):\n",
    "    if n < 2:\n",
    "        return False\n",
    "    i = 2\n",
    "    while i * i <= n:\n",
    "        if n % i == 0:\n",
    "            return False\n",
    "        i += 1\n",
    "    return True\n",
    "\n",
    "\n",
    "def primfaktoren(zahl):\n",
    "    if istPrimzahl(zahl):\n",
    "        return [zahl]\n",
    "    faktoren = []\n",
    "    for i in range(2, zahl):\n",
    "        if (zahl % i == 0) and istPrimzahl(i):\n",
    "            faktoren += [i]\n",
    "    return faktoren\n",
    "\n",
    "\n",
    "def istPerfekt(zahl):\n",
    "    summe = 0\n",
    "    for i in range(1, zahl//2 + 1):\n",
    "        if zahl % i == 0:\n",
    "            summe += i\n",
    "    \n",
    "    return summe == zahl\n",
    "\n",
    "\n",
    "try:\n",
    "    zahl = int(input(\"Bitte geben Sie eine Ganzzahl ein. Negative Zahlen beenden das Programm: \"))\n",
    "    \n",
    "    while zahl >= 0:\n",
    "        print(\"Primfaktoren:\", primfaktoren(zahl))\n",
    "        \n",
    "        if istPerfekt(zahl):\n",
    "            print(zahl, \"ist eine perfekte Zahl\")\n",
    "        else:\n",
    "            print(zahl, \"ist keine perfekte Zahl\")\n",
    "            \n",
    "        zahl = int(input(\"Bitte geben Sie eine Ganzzahl ein. Negative Zahlen beenden das Programm: \"))\n",
    "        \n",
    "except ValueError:\n",
    "    print(\"Programm endet. Keine Ganzzahl eingegeben.\")"
   ]
  },
  {
   "cell_type": "markdown",
   "metadata": {},
   "source": [
    "## Aufgabe 2: Primfaktoren (10 Punkte)\n",
    "Schreiben Sie eine Methode, die als **Parameter eine Ganzzahl** erhält und ein **Array zurückgibt**, das die Primfaktoren der Zahl enthält. Primfaktoren sind alle Teiler der Zahl, die Primzahlen sind, bei einer Primzahl würde also beispielsweise nur die Zahl selbst in dem Array stehen.\n",
    "\n",
    "*Tipp: Sie dürfen die Primzahlmethode aus der Vorlesung benutzen.*"
   ]
  },
  {
   "cell_type": "code",
   "execution_count": 8,
   "metadata": {},
   "outputs": [
    {
     "name": "stdout",
     "output_type": "stream",
     "text": [
      "[2, 5]\n"
     ]
    }
   ],
   "source": [
    "def istPrimzahl(n):\n",
    "    if n < 2:\n",
    "        return False\n",
    "    i = 2\n",
    "    while i * i <= n:\n",
    "        if n % i == 0:\n",
    "            return False\n",
    "        i += 1\n",
    "    return True\n",
    "\n",
    "def primfaktoren(zahl):\n",
    "    if istPrimzahl(zahl):\n",
    "        return [zahl]\n",
    "    faktoren = []\n",
    "    for i in range(2, zahl):\n",
    "        if (zahl % i == 0) and istPrimzahl(i):\n",
    "            faktoren += [i]\n",
    "    return faktoren\n",
    "\n",
    "print(primfaktoren(100))"
   ]
  },
  {
   "cell_type": "markdown",
   "metadata": {},
   "source": [
    "## Aufgabe 3: Perfekte Zahlen (10 Punkte)\n",
    "Schreiben Sie eine Methode, die als **Parameter eine Ganzzahl** erhält und überprüft, ob es sich um eine perfekte Zahl handelt oder nicht. Für eine perfekte Zahl soll **True, für andere Zahlen False zurückgegeben** werden. Eine perfekte Zahl ist eine Zahl, die die Summe ihrer Teiler (ohne sich selbst) ist.\n",
    "\n",
    "*Tipp: Die kleinsten beiden perfekten Zahlen sind:*\n",
    "    \n",
    "    6  = 1 + 2 + 3\n",
    "    28 = 1 + 2 + 4 + 7 + 14\n"
   ]
  },
  {
   "cell_type": "code",
   "execution_count": 12,
   "metadata": {},
   "outputs": [
    {
     "name": "stdout",
     "output_type": "stream",
     "text": [
      "False\n"
     ]
    }
   ],
   "source": [
    "def istPerfekt(zahl):\n",
    "    summe = 0\n",
    "    for i in range(1, zahl//2 + 1):\n",
    "        if zahl % i == 0:\n",
    "            summe += i\n",
    "    \n",
    "    return summe == zahl\n",
    "\n",
    "print(istPerfekt(21))"
   ]
  },
  {
   "cell_type": "markdown",
   "metadata": {},
   "source": [
    "# GitHub\n",
    "Die Matrialien dieser meiner Übungsgrupppen gibt es jetzt unter: https://github.com/julianhoever/gpt-ss2020"
   ]
  },
  {
   "cell_type": "code",
   "execution_count": null,
   "metadata": {},
   "outputs": [],
   "source": []
  }
 ],
 "metadata": {
  "kernelspec": {
   "display_name": "Python 3",
   "language": "python",
   "name": "python3"
  },
  "language_info": {
   "codemirror_mode": {
    "name": "ipython",
    "version": 3
   },
   "file_extension": ".py",
   "mimetype": "text/x-python",
   "name": "python",
   "nbconvert_exporter": "python",
   "pygments_lexer": "ipython3",
   "version": "3.7.6"
  }
 },
 "nbformat": 4,
 "nbformat_minor": 4
}
