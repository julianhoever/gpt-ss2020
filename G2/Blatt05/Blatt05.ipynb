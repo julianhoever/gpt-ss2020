{
 "cells": [
  {
   "cell_type": "markdown",
   "metadata": {},
   "source": [
    "# Grundlegende Programmiertechniken - Blatt 4"
   ]
  },
  {
   "cell_type": "markdown",
   "metadata": {},
   "source": [
    "## Aufgabe 1: Multiplikationstabelle (15 Punkte)\n",
    "Schreiben Sie ein Programm und speichern Sie es als *Multiplikationstabelle.py* ab. Ihr Programm soll **zwei Ganzzahlen als Programmparameter** erhalten. Sie dürfen davon ausgehen, dass die **erste Zahl kleiner als die zweite Zahl** ist. Ihr Programm soll nun die Multiplikationstabelle zu diesen beiden Zahlen ausgeben. Die Ausgabe soll nach dem folgenden Schema aufgebaut sein:\n",
    "    \n",
    "    python3 Multiplikationstabelle.py 12 14\n",
    "        12  13  14 \n",
    "    12  144 156 168\n",
    "    13  156 169 182\n",
    "    14  168 182 196\n",
    "\n",
    "Tipps:\n",
    "- Benutzen Sie zwischen den Zahlen keine Leerzeichen, sondern Tabstopps. Diese schreibt man in Python als ”\\t”.\n",
    "- Damit die Funktion print am Ende keinen Zeilenumbruch ausgibt, kann ein zusätzlicher Parameter end auf das Zeichen gesetzt werden, das am Ende ausgegeben werden soll. Soll ein Tabstopp ausgegeben werden, sähe das dann beispielsweise so aus: print(\"Hallo\", end=\"\\t\")."
   ]
  },
  {
   "cell_type": "code",
   "execution_count": 5,
   "metadata": {},
   "outputs": [
    {
     "name": "stdout",
     "output_type": "stream",
     "text": [
      "Overwriting Multiplikationstabelle.py\n"
     ]
    }
   ],
   "source": [
    "%%writefile Multiplikationstabelle.py\n",
    "import sys\n",
    "\n",
    "start = int(sys.argv[1])\n",
    "ende = int(sys.argv[2])\n",
    "\n",
    "for i in range(start, ende+1):\n",
    "    print(\"\\t\" + str(i), end=\"\")\n",
    "\n",
    "print()\n",
    "\n",
    "for zeile in range(start, ende+1):\n",
    "    print(zeile, end=\"\\t\")\n",
    "    \n",
    "    for spalte in range(start, ende+1):\n",
    "        print(zeile * spalte, end=\"\\t\")\n",
    "    \n",
    "    print()"
   ]
  },
  {
   "cell_type": "code",
   "execution_count": 8,
   "metadata": {},
   "outputs": [
    {
     "name": "stdout",
     "output_type": "stream",
     "text": [
      "Hallo\n",
      "Welt\tTest\n"
     ]
    }
   ],
   "source": [
    "s = \"Hallo\\nWelt\\tTest\"\n",
    "\n",
    "print(s)"
   ]
  },
  {
   "cell_type": "markdown",
   "metadata": {},
   "source": [
    "## Aufgabe 2: Zweidimensionales Array (20 Punkte)\n",
    "Schreiben Sie ein Programm und speichern Sie es als *Matrix.py*. Ihr Programm soll Wortpaare (Arrays mit zwei Wörtern) in einem Array speichern.\n",
    "\n",
    "- Dazu soll der Nutzer zunächst gefragt werden, wie viele Wortpaare er eingeben möchte. Dann sollen entsprechend oft jeweils zwei Wörter in ein Array eingelesen werden, und diese Arrays sollen widerum in einem Array gespeichert werden.\n",
    "- Erstellen Sie nun ein zweites Array, in das alle Wörter des ersten Arrays übertragen werden sollen, wobei im neuen Array nur Zeichenketten und keine Arrays stehen sollen. Dabei soll die Reihenfolge innerhalb der Wortpaare unverändert bleiben, die Paare sollen jedoch in umgekehrter Reihenfolge im neuen Array stehen.\n",
    "- Erstellen Sie nun ein drittes Array, in das ebenfalls die Wörter des ersten Arrays übertragen werden sollen und das ebenfalls nur Zeichenketten und keine Arrays enthalten soll. In dieses Array sollen die Worte so übertragen werden, dass die Reihenfolge der Wortpaare bestehen bleibt, sich die Reihenfolge innerhalb eines Paars jedoch jeweils umkehrt.\n",
    "- Geben Sie abschließend das ursprünglich eingelesene Array und die beiden neuen Arrays untereinander aus.\n",
    "\n",
    "Ein beispielhafter Aufruf könnte so aussehen:\n",
    "\n",
    "    python3 Matrix.py\n",
    "    Wie viele Wortpaare sollen eingegeben werden: 2\n",
    "    Bitte geben Sie das 1te Wortpaar ein:\n",
    "    a\n",
    "    b\n",
    "    Bitte geben Sie das 2te Wortpaar ein:\n",
    "    x\n",
    "    y\n",
    "    [[’a’, ’b’], [’x’, ’y’]]\n",
    "    [’x’, ’y’, ’a’, ’b’]\n",
    "    [’b’, ’a’, ’y’, ’x’]"
   ]
  },
  {
   "cell_type": "code",
   "execution_count": 12,
   "metadata": {},
   "outputs": [
    {
     "name": "stdin",
     "output_type": "stream",
     "text": [
      "Wie viele Wortpaare sollen eingegeben werden:  3\n"
     ]
    },
    {
     "name": "stdout",
     "output_type": "stream",
     "text": [
      "Bitte geben Sie das 1te Wortpaar ein:\n"
     ]
    },
    {
     "name": "stdin",
     "output_type": "stream",
     "text": [
      " a\n",
      " b\n"
     ]
    },
    {
     "name": "stdout",
     "output_type": "stream",
     "text": [
      "Bitte geben Sie das 2te Wortpaar ein:\n"
     ]
    },
    {
     "name": "stdin",
     "output_type": "stream",
     "text": [
      " c\n",
      " d\n"
     ]
    },
    {
     "name": "stdout",
     "output_type": "stream",
     "text": [
      "Bitte geben Sie das 3te Wortpaar ein:\n"
     ]
    },
    {
     "name": "stdin",
     "output_type": "stream",
     "text": [
      " e\n",
      " f\n"
     ]
    },
    {
     "name": "stdout",
     "output_type": "stream",
     "text": [
      "[['a', 'b'], ['c', 'd'], ['e', 'f']]\n",
      "['e', 'f', 'c', 'd', 'a', 'b']\n",
      "['b', 'a', 'd', 'c', 'f', 'e']\n"
     ]
    }
   ],
   "source": [
    "anzahl = int(input(\"Wie viele Wortpaare sollen eingegeben werden: \"))\n",
    "\n",
    "paare = []\n",
    "\n",
    "for i in range(1, anzahl+1):\n",
    "    print(\"Bitte geben Sie das \" + str(i) + \"te Wortpaar ein:\")\n",
    "    paar = [input(), input()]\n",
    "    paare += [paar]\n",
    "    \n",
    "paare2 = []\n",
    "\n",
    "for paar in paare[::-1]:\n",
    "    paare2 += paar\n",
    "\n",
    "paare3 = []\n",
    "\n",
    "for paar in paare:\n",
    "    paare3 += paar[::-1]\n",
    "    \n",
    "print(paare)\n",
    "print(paare2)\n",
    "print(paare3)"
   ]
  },
  {
   "cell_type": "code",
   "execution_count": 15,
   "metadata": {},
   "outputs": [
    {
     "name": "stdin",
     "output_type": "stream",
     "text": [
      "Wie viele Wortpaare sollen eingegeben werden:  3\n"
     ]
    },
    {
     "name": "stdout",
     "output_type": "stream",
     "text": [
      "Bitte geben Sie das 1te Wortpaar ein:\n"
     ]
    },
    {
     "name": "stdin",
     "output_type": "stream",
     "text": [
      " a\n",
      " b\n"
     ]
    },
    {
     "name": "stdout",
     "output_type": "stream",
     "text": [
      "Bitte geben Sie das 2te Wortpaar ein:\n"
     ]
    },
    {
     "name": "stdin",
     "output_type": "stream",
     "text": [
      " c\n",
      " d\n"
     ]
    },
    {
     "name": "stdout",
     "output_type": "stream",
     "text": [
      "Bitte geben Sie das 3te Wortpaar ein:\n"
     ]
    },
    {
     "name": "stdin",
     "output_type": "stream",
     "text": [
      " e\n",
      " f\n"
     ]
    },
    {
     "name": "stdout",
     "output_type": "stream",
     "text": [
      "[['a', 'b'], ['c', 'd'], ['e', 'f']]\n",
      "['e', 'f', 'c', 'd', 'a', 'b']\n",
      "['b', 'a', 'd', 'c', 'f', 'e']\n"
     ]
    }
   ],
   "source": [
    "anzahl = int(input(\"Wie viele Wortpaare sollen eingegeben werden: \"))\n",
    "\n",
    "paare = []\n",
    "\n",
    "for i in range(1, anzahl+1):\n",
    "    print(\"Bitte geben Sie das \" + str(i) + \"te Wortpaar ein:\")\n",
    "    paar = [input(), input()]\n",
    "    paare += [paar]\n",
    "    \n",
    "paare2 = []\n",
    "\n",
    "for i in range(len(paare)-1, -1, -1):\n",
    "    paare2 += paare[i]\n",
    "\n",
    "paare3 = []\n",
    "\n",
    "for i in range(0, len(paare)):\n",
    "    paare3 += [paare[i][1]]\n",
    "    paare3 += [paare[i][0]]\n",
    "    \n",
    "print(paare)\n",
    "print(paare2)\n",
    "print(paare3)"
   ]
  },
  {
   "cell_type": "markdown",
   "metadata": {},
   "source": [
    "# Grundlegende Programmiertechniken - Blatt 5"
   ]
  },
  {
   "cell_type": "markdown",
   "metadata": {},
   "source": [
    "## Aufgabe 1: I/O (15 Punkte)\n",
    "Schreiben Sie ein Programm und speichern Sie es als *JedeZweite.py*. Ihr Programm soll alle über die **Standardeingabe (sys.stdin)** verfügbaren Zeilen einlesen und in einem Array speichern. Dann soll über die Standardausgabe nur **jede zweite Zeile** ausgegeben werden.\n",
    "\n",
    "*Tipp: Legen Sie zum Testen eine Textdatei mit mehreren Zeilen Text an und leiten Sie beim Programmaufruf die Standardeingabe auf diese Datei um.*"
   ]
  },
  {
   "cell_type": "code",
   "execution_count": 19,
   "metadata": {},
   "outputs": [
    {
     "name": "stdout",
     "output_type": "stream",
     "text": [
      "Overwriting JedeZweite.py\n"
     ]
    }
   ],
   "source": [
    "%%writefile JedeZweite.py\n",
    "import sys\n",
    "\n",
    "zeilen = []\n",
    "\n",
    "for zeile in sys.stdin:\n",
    "    zeilen += [zeile]\n",
    "\n",
    "jede_zweite = zeilen[1::2]\n",
    "\n",
    "sys.stdout.writelines(jede_zweite)"
   ]
  },
  {
   "cell_type": "code",
   "execution_count": 21,
   "metadata": {},
   "outputs": [
    {
     "name": "stdout",
     "output_type": "stream",
     "text": [
      "Overwriting JedeZweite.py\n"
     ]
    }
   ],
   "source": [
    "%%writefile JedeZweite.py\n",
    "import sys\n",
    "\n",
    "zeilen = sys.stdin.readlines()\n",
    "\n",
    "for i in range(1, len(zeilen), 2):\n",
    "    print(zeilen[i], end=\"\")"
   ]
  },
  {
   "cell_type": "markdown",
   "metadata": {},
   "source": [
    "## Aufgabe 2: Dateiausgabe (10 Punkte)\n",
    "Schreiben Sie ein Programm und speichern Sie es als *Ausgabe.py*. Ihr Programm soll sich bei Ausführung selbst ausgeben."
   ]
  },
  {
   "cell_type": "code",
   "execution_count": 25,
   "metadata": {},
   "outputs": [
    {
     "name": "stdout",
     "output_type": "stream",
     "text": [
      "Overwriting Ausgabe.py\n"
     ]
    }
   ],
   "source": [
    "%%writefile Ausgabe.py\n",
    "with open(\"Ausgabe.py\", \"r\") as datei:\n",
    "    for zeile in datei:\n",
    "        print(zeile, end=\"\")"
   ]
  },
  {
   "cell_type": "markdown",
   "metadata": {},
   "source": [
    "## Aufgabe 3: (15 Punkte)\n",
    "Schreiben Sie ein Programm und speichern Sie es als *Sortieren.py*. Ihr Programm soll als **Programmparameter** eine Ganzzahl erhalten. Dann soll es vom Nutzer die angegebene Anzahl an **Namen einlesen**. Anschließend sollen die Namen in alphabetisch **sortierter Reihenfolge** in eine Datei *sortiert.txt* geschrieben werden. Bei Fehlern soll eine eigene **Fehlermeldung** ausgegeben werden."
   ]
  },
  {
   "cell_type": "code",
   "execution_count": 28,
   "metadata": {},
   "outputs": [
    {
     "name": "stdout",
     "output_type": "stream",
     "text": [
      "Overwriting Sortieren.py\n"
     ]
    }
   ],
   "source": [
    "%%writefile Sortieren.py\n",
    "import sys\n",
    "\n",
    "try:\n",
    "    anzahl = int(sys.argv[1])\n",
    "    namen = []\n",
    "\n",
    "    for i in range(anzahl):\n",
    "        namen += [input()]\n",
    "    \n",
    "    namen_sortiert = sorted(namen)\n",
    "\n",
    "    with open(\"sortiert.txt\", \"w\") as datei:\n",
    "        for name in namen_sortiert:\n",
    "            datei.write(name + \"\\n\")\n",
    "\n",
    "except IndexError:\n",
    "    print(\"Programmparameter fehlt\")\n",
    "    \n",
    "except ValueError:\n",
    "    print(\"Programmparameter muss eine Ganzzahl sein\")\n",
    "    \n",
    "except IOError:\n",
    "    print(\"Fehler bei der Ein-/Ausgabe\")\n",
    "    \n",
    "except:\n",
    "    print(\"Ein anderer Fehler ist aufgetreten\")"
   ]
  },
  {
   "cell_type": "code",
   "execution_count": null,
   "metadata": {},
   "outputs": [],
   "source": []
  }
 ],
 "metadata": {
  "kernelspec": {
   "display_name": "Python 3",
   "language": "python",
   "name": "python3"
  },
  "language_info": {
   "codemirror_mode": {
    "name": "ipython",
    "version": 3
   },
   "file_extension": ".py",
   "mimetype": "text/x-python",
   "name": "python",
   "nbconvert_exporter": "python",
   "pygments_lexer": "ipython3",
   "version": "3.7.6"
  },
  "toc-showmarkdowntxt": false,
  "toc-showtags": false
 },
 "nbformat": 4,
 "nbformat_minor": 4
}
