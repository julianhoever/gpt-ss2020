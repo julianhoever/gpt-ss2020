{
 "cells": [
  {
   "cell_type": "markdown",
   "metadata": {},
   "source": [
    "# Grundlegende Programmiertechniken - Blatt 6"
   ]
  },
  {
   "cell_type": "code",
   "execution_count": 4,
   "metadata": {},
   "outputs": [
    {
     "name": "stdin",
     "output_type": "stream",
     "text": [
      " 42\n"
     ]
    },
    {
     "name": "stdout",
     "output_type": "stream",
     "text": [
      "Ergebnis: 42\n"
     ]
    }
   ],
   "source": [
    "# Imports\n",
    "import sys\n",
    "\n",
    "# Funktionsdefinitionen\n",
    "def id(x):\n",
    "    return x\n",
    "\n",
    "# Hauptprogramm\n",
    "zahl = int(input())\n",
    "print(\"Ergebnis:\", id(zahl))"
   ]
  },
  {
   "cell_type": "markdown",
   "metadata": {},
   "source": [
    "## Aufgabe 1: Rechnen (20 Punkte)\n",
    "Schreiben Sie ein Programm und speichern Sie es als *Rechnen.py*. Ihr Programm soll **beliebig viele Kommazahlen** über die **Standardeingabe (sys.stdin)** erhalten und diese in einem Array speichern. Anschließend sollen Durchschnitt, Minimum und Maximum der Zahlen ausgegeben werden. Schreiben Sie dazu für jede Rechnung (Durchschnitt, Minimum, Maximum) eine **eigene Methode**, insgesamt also drei Methoden, die im Hauptprogramm verwendet werden."
   ]
  },
  {
   "cell_type": "code",
   "execution_count": 6,
   "metadata": {},
   "outputs": [
    {
     "name": "stdout",
     "output_type": "stream",
     "text": [
      "Overwriting Rechnen.py\n"
     ]
    }
   ],
   "source": [
    "%%writefile Rechnen.py\n",
    "import sys\n",
    "\n",
    "\n",
    "def durchschnitt(liste):\n",
    "    return sum(liste)/len(liste)\n",
    "\n",
    "\n",
    "def minimum(liste):\n",
    "    kleinstes = liste[0]\n",
    "    for zahl in liste:\n",
    "        if zahl < kleinstes:\n",
    "            kleinstes = zahl\n",
    "    return kleinstes\n",
    "\n",
    "\n",
    "def maximum(liste):\n",
    "    groesstes = liste[0]\n",
    "    for zahl in liste:\n",
    "        if zahl > groesstes:\n",
    "            groesstes = zahl\n",
    "    return groesstes\n",
    "\n",
    "\n",
    "zahlen = []\n",
    "for zeile in sys.stdin:\n",
    "    zahlen += [float(zeile)]\n",
    "    \n",
    "print(\"Durchschnitt:\", durchschnitt(zahlen))\n",
    "print(\"Minimum:\", minimum(zahlen))\n",
    "print(\"Maximum:\", maximum(zahlen))"
   ]
  },
  {
   "cell_type": "markdown",
   "metadata": {},
   "source": [
    "## Aufgabe 2: Primzahlen (10 Punkte)\n",
    "Schreiben Sie ein Programm und speichern Sie es als *Primzahlen.py*. Ihr Programm soll als **Programmparameter** eine Ganzzahl n erhalten und dann eine Textdatei *Primzahlen.txt* erstellen, welche die **ersten n Primzahlen** enthält. Es sollte jeweils **nur eine Primzahl in einer Zeile** stehen und sonst nichts. \n",
    "\n",
    "*Tipp: Sie dürfen hierfür Code aus den Programmen aus der Vorlesung benutzen.*\n"
   ]
  },
  {
   "cell_type": "code",
   "execution_count": 11,
   "metadata": {},
   "outputs": [],
   "source": [
    "def istPrimzahl(n):\n",
    "    if n < 2:\n",
    "        return False\n",
    "    for teiler in range(2, n):\n",
    "        if n % teiler == 0:\n",
    "            return False\n",
    "    return True"
   ]
  },
  {
   "cell_type": "code",
   "execution_count": 12,
   "metadata": {},
   "outputs": [],
   "source": [
    "def istPrimzahl(n):\n",
    "    if n < 2:\n",
    "        return False\n",
    "    i = 2\n",
    "    while i*i <= n:\n",
    "        if n % i == 0:\n",
    "            return False\n",
    "        i += 1\n",
    "    return True"
   ]
  },
  {
   "cell_type": "code",
   "execution_count": 14,
   "metadata": {},
   "outputs": [
    {
     "name": "stdout",
     "output_type": "stream",
     "text": [
      "Overwriting Primzahlen.py\n"
     ]
    }
   ],
   "source": [
    "%%writefile Primzahlen.py\n",
    "import sys\n",
    "\n",
    "\n",
    "def istPrimzahl(n):\n",
    "    if n < 2:\n",
    "        return False\n",
    "    i = 2\n",
    "    while i*i <= n:\n",
    "        if n % i == 0:\n",
    "            return False\n",
    "        i += 1\n",
    "    return True\n",
    "\n",
    "\n",
    "n = int(sys.argv[1])\n",
    "anzahl_primzahlen = 0\n",
    "i = 2\n",
    "\n",
    "with open(\"Primzahlen.txt\", \"w\") as datei:\n",
    "    while anzahl_primzahlen < n:\n",
    "        if istPrimzahl(i):\n",
    "            datei.write(str(i) + \"\\n\")\n",
    "            anzahl_primzahlen += 1\n",
    "        i += 1"
   ]
  },
  {
   "cell_type": "code",
   "execution_count": 18,
   "metadata": {},
   "outputs": [
    {
     "name": "stdin",
     "output_type": "stream",
     "text": [
      " 5\n",
      " 2\n",
      " 1\n",
      " 0\n"
     ]
    },
    {
     "name": "stdout",
     "output_type": "stream",
     "text": [
      "Summe = 8\n"
     ]
    }
   ],
   "source": [
    "zahl = int(input())\n",
    "summe = zahl\n",
    "\n",
    "while zahl != 0:\n",
    "    zahl = int(input())\n",
    "    summe += zahl\n",
    "    \n",
    "print(\"Summe =\", summe)"
   ]
  },
  {
   "cell_type": "code",
   "execution_count": null,
   "metadata": {},
   "outputs": [],
   "source": []
  }
 ],
 "metadata": {
  "kernelspec": {
   "display_name": "Python 3",
   "language": "python",
   "name": "python3"
  },
  "language_info": {
   "codemirror_mode": {
    "name": "ipython",
    "version": 3
   },
   "file_extension": ".py",
   "mimetype": "text/x-python",
   "name": "python",
   "nbconvert_exporter": "python",
   "pygments_lexer": "ipython3",
   "version": "3.7.6"
  }
 },
 "nbformat": 4,
 "nbformat_minor": 4
}
